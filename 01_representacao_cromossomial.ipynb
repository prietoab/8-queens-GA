{
 "cells": [
  {
   "cell_type": "code",
   "execution_count": 3,
   "metadata": {},
   "outputs": [],
   "source": [
    "import numpy as np"
   ]
  },
  {
   "cell_type": "code",
   "execution_count": 4,
   "metadata": {},
   "outputs": [],
   "source": [
    "tamanho_do_tabuleiro = 8"
   ]
  },
  {
   "cell_type": "code",
   "execution_count": 14,
   "metadata": {},
   "outputs": [
    {
     "name": "stdout",
     "output_type": "stream",
     "text": [
      "[2 4 0 3 1 7 5 0]\n",
      "[4 6 2 5 5 1 3 0]\n",
      "[2 1 7 0 7 1 0 0]\n",
      "[4 1 1 5 6 0 2 4]\n",
      "[0 6 6 5 5 3 2 5]\n"
     ]
    }
   ],
   "source": [
    "for i in range(5):\n",
    "    s = np.random.randint(tamanho_do_tabuleiro, size=tamanho_do_tabuleiro)\n",
    "    print(s)"
   ]
  },
  {
   "cell_type": "markdown",
   "metadata": {},
   "source": [
    "## Extrai as coordenadas"
   ]
  },
  {
   "cell_type": "code",
   "execution_count": 26,
   "metadata": {},
   "outputs": [],
   "source": [
    "def extrai_coordenadas_do_individuo(ind, tamanho_tabuleiro):\n",
    "    lista_coordenadas = []\n",
    "    for i in range(tamanho_tabuleiro):\n",
    "        lista_coordenadas.append((i,ind[i]))\n",
    "    return lista_coordenadas"
   ]
  },
  {
   "cell_type": "code",
   "execution_count": 27,
   "metadata": {},
   "outputs": [
    {
     "data": {
      "text/plain": [
       "array([0, 2, 2, 1, 6, 2, 0, 0])"
      ]
     },
     "execution_count": 27,
     "metadata": {},
     "output_type": "execute_result"
    }
   ],
   "source": [
    "s = np.random.randint(tamanho_do_tabuleiro, size=tamanho_do_tabuleiro)\n",
    "s"
   ]
  },
  {
   "cell_type": "code",
   "execution_count": 29,
   "metadata": {},
   "outputs": [
    {
     "data": {
      "text/plain": [
       "[(0, 0), (1, 2), (2, 2), (3, 1), (4, 6), (5, 2), (6, 0), (7, 0)]"
      ]
     },
     "execution_count": 29,
     "metadata": {},
     "output_type": "execute_result"
    }
   ],
   "source": [
    "coords_s = extrai_coordenadas_do_individuo(s,8)\n",
    "coords_s"
   ]
  }
 ],
 "metadata": {
  "kernelspec": {
   "display_name": "Python 3",
   "language": "python",
   "name": "python3"
  },
  "language_info": {
   "codemirror_mode": {
    "name": "ipython",
    "version": 3
   },
   "file_extension": ".py",
   "mimetype": "text/x-python",
   "name": "python",
   "nbconvert_exporter": "python",
   "pygments_lexer": "ipython3",
   "version": "3.6.9"
  }
 },
 "nbformat": 4,
 "nbformat_minor": 2
}
