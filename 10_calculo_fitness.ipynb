{
 "cells": [
  {
   "cell_type": "code",
   "execution_count": 1,
   "metadata": {},
   "outputs": [],
   "source": [
    "import numpy as np\n",
    "import seaborn as sns\n",
    "import matplotlib.pyplot as plt"
   ]
  },
  {
   "cell_type": "markdown",
   "metadata": {},
   "source": [
    "## Gera um indivíduo aleatoriamente"
   ]
  },
  {
   "cell_type": "code",
   "execution_count": 74,
   "metadata": {},
   "outputs": [
    {
     "data": {
      "text/plain": [
       "array([7, 1, 7, 4, 5, 2, 0, 3])"
      ]
     },
     "execution_count": 74,
     "metadata": {},
     "output_type": "execute_result"
    }
   ],
   "source": [
    "tamanho_do_tabuleiro = 8\n",
    "s = np.random.randint(tamanho_do_tabuleiro, size=tamanho_do_tabuleiro)\n",
    "s"
   ]
  },
  {
   "cell_type": "markdown",
   "metadata": {},
   "source": [
    "## Extrai as coordenadas"
   ]
  },
  {
   "cell_type": "code",
   "execution_count": 94,
   "metadata": {},
   "outputs": [],
   "source": [
    "#---------------------------------------------------------\n",
    "def extrai_coordenadas_do_individuo(ind, coordenadas_humanos=False):\n",
    "#---------------------------------------------------------\n",
    "    lista_coordenadas = []\n",
    "    \n",
    "    fator_conversao = int(coordenadas_humanos)\n",
    "    \n",
    "    for i in range(len(ind)):\n",
    "        lista_coordenadas.append((i + fator_conversao , ind[i] + fator_conversao))\n",
    "    return lista_coordenadas"
   ]
  },
  {
   "cell_type": "code",
   "execution_count": 76,
   "metadata": {},
   "outputs": [
    {
     "data": {
      "text/plain": [
       "[(0, 7), (1, 1), (2, 7), (3, 4), (4, 5), (5, 2), (6, 0), (7, 3)]"
      ]
     },
     "execution_count": 76,
     "metadata": {},
     "output_type": "execute_result"
    }
   ],
   "source": [
    "coords_s = extrai_coordenadas_do_individuo(s)\n",
    "coords_s"
   ]
  },
  {
   "cell_type": "markdown",
   "metadata": {},
   "source": [
    "## Gera m matriz resultante para o individuo"
   ]
  },
  {
   "cell_type": "code",
   "execution_count": 77,
   "metadata": {},
   "outputs": [],
   "source": [
    "def atualiza_coordenada(vlr_coord, operacao):\n",
    "    \n",
    "    novo_vlr_coord = -99\n",
    "    \n",
    "    if (operacao == \"+\") | (operacao == \"adicao\"):\n",
    "        novo_vlr_coord = vlr_coord + 1\n",
    "    elif (operacao == \"-\") | (operacao == \"subtracao\"):\n",
    "        novo_vlr_coord = vlr_coord - 1\n",
    "    else:\n",
    "        print(\"Operacao invalida.\")\n",
    "        novo_vlr_coord = -97\n",
    "    \n",
    "    return novo_vlr_coord\n",
    "\n",
    "\n",
    "def gera_matriz_coordenada(x,y,valor_posicao_rainha=0, tamanho_tabuleiro=8):\n",
    "    \n",
    "    limite_inferior = 0\n",
    "    limite_superior = tamanho_tabuleiro - 1\n",
    "    \n",
    "    m = np.zeros((tamanho_tabuleiro, tamanho_tabuleiro), dtype = int)\n",
    "\n",
    "    lista_operacoes = [\"+\",\"-\"]\n",
    "\n",
    "    for oper_i in lista_operacoes:\n",
    "        for oper_j in lista_operacoes:\n",
    "            \n",
    "            i = atualiza_coordenada(x,oper_i)\n",
    "            j = atualiza_coordenada(y,oper_j)\n",
    "            \n",
    "            while (i >= limite_inferior) & (i <= limite_superior) & (j >= limite_inferior) & (j <= limite_superior):\n",
    "                m[i,j] = 1\n",
    "                i = atualiza_coordenada(i,oper_i)\n",
    "                j = atualiza_coordenada(j,oper_j)\n",
    "\n",
    "    m[x,:] = 1\n",
    "    m[:,y] = 1\n",
    "    m[x,y] = valor_posicao_rainha\n",
    "    \n",
    "    return m"
   ]
  },
  {
   "cell_type": "code",
   "execution_count": 78,
   "metadata": {},
   "outputs": [],
   "source": [
    "def gera_matriz_resultante(coords_ind):\n",
    "    \n",
    "    tamanho_do_tabuleiro = len(coords_ind)\n",
    "    \n",
    "    mr = np.zeros((tamanho_do_tabuleiro, tamanho_do_tabuleiro), dtype = int)\n",
    "\n",
    "    for x,y in coords_ind:\n",
    "        mr = mr + gera_matriz_coordenada(x,y,valor_posicao_rainha=0)\n",
    "    \n",
    "    return mr"
   ]
  },
  {
   "cell_type": "code",
   "execution_count": 79,
   "metadata": {},
   "outputs": [
    {
     "data": {
      "text/plain": [
       "array([[3, 4, 3, 2, 2, 3, 2, 3],\n",
       "       [2, 0, 4, 2, 2, 3, 5, 3],\n",
       "       [3, 2, 3, 4, 3, 5, 1, 2],\n",
       "       [3, 2, 2, 4, 3, 2, 3, 4],\n",
       "       [3, 3, 3, 5, 3, 2, 2, 3],\n",
       "       [2, 4, 2, 2, 4, 4, 3, 3],\n",
       "       [0, 5, 3, 5, 3, 2, 2, 5],\n",
       "       [5, 3, 4, 0, 3, 2, 1, 4]])"
      ]
     },
     "execution_count": 79,
     "metadata": {},
     "output_type": "execute_result"
    }
   ],
   "source": [
    "mr_teste = gera_matriz_resultante(coords_s)\n",
    "mr_teste"
   ]
  },
  {
   "cell_type": "markdown",
   "metadata": {},
   "source": [
    "## Conta a quantidade de ataques entre as rainhas"
   ]
  },
  {
   "cell_type": "code",
   "execution_count": 80,
   "metadata": {},
   "outputs": [],
   "source": [
    "def qtde_ataques_entre_rainhas(mr, coords_ind):\n",
    "    qtde_ataques = 0\n",
    "    for x,y in coords_ind:\n",
    "        qtde_ataques = qtde_ataques + mr[x,y]\n",
    "    return qtde_ataques"
   ]
  },
  {
   "cell_type": "code",
   "execution_count": 81,
   "metadata": {},
   "outputs": [
    {
     "data": {
      "text/plain": [
       "12"
      ]
     },
     "execution_count": 81,
     "metadata": {},
     "output_type": "execute_result"
    }
   ],
   "source": [
    "qtde_ataques_entre_rainhas(mr_teste, coords_s)"
   ]
  },
  {
   "cell_type": "code",
   "execution_count": 95,
   "metadata": {},
   "outputs": [
    {
     "data": {
      "text/plain": [
       "[(1, 8), (2, 2), (3, 8), (4, 5), (5, 6), (6, 3), (7, 1), (8, 4)]"
      ]
     },
     "execution_count": 95,
     "metadata": {},
     "output_type": "execute_result"
    }
   ],
   "source": [
    "extrai_coordenadas_do_individuo(s, True)"
   ]
  },
  {
   "cell_type": "markdown",
   "metadata": {},
   "source": [
    "# Calcula o fitness"
   ]
  },
  {
   "cell_type": "code",
   "execution_count": 96,
   "metadata": {},
   "outputs": [],
   "source": [
    "import pandas as pd"
   ]
  },
  {
   "cell_type": "code",
   "execution_count": 112,
   "metadata": {},
   "outputs": [
    {
     "data": {
      "text/plain": [
       "<matplotlib.axes._subplots.AxesSubplot at 0x7f96487b3e80>"
      ]
     },
     "execution_count": 112,
     "metadata": {},
     "output_type": "execute_result"
    },
    {
     "data": {
      "image/png": "[encoded data removed]",
      "text/plain": [
       "<Figure size 432x288 with 1 Axes>"
      ]
     },
     "metadata": {
      "needs_background": "light"
     },
     "output_type": "display_data"
    }
   ],
   "source": [
    "def fitness(qtde_ataques_entre_rainhas):\n",
    "    b=0.2\n",
    "    if qtde_ataques_entre_rainhas < 0:\n",
    "        print(\"[fitness] Erro! Quantidade de ataques negativo!\")\n",
    "        f = -9999\n",
    "    else:\n",
    "        f = 1 / (1 + b*qtde_ataques_entre_rainhas)\n",
    "        \n",
    "    return f\n",
    "\n",
    "lista_f = []\n",
    "lista_q = []\n",
    "\n",
    "for q in range(31):\n",
    "    lista_q.append(q)\n",
    "    lista_f.append(fitness(q))\n",
    "\n",
    "arr_q = np.array(lista_q)\n",
    "arr_f = np.array(lista_f)\n",
    "\n",
    "df_fitness = pd.DataFrame({\"qtde_ataques_entre_rainhas\": lista_q, \"fitness\": lista_f})\n",
    "df_fitness.plot(kind=\"scatter\",x=\"qtde_ataques_entre_rainhas\",y=\"fitness\")"
   ]
  },
  {
   "cell_type": "markdown",
   "metadata": {},
   "source": [
    "# A função evaluate_fn"
   ]
  },
  {
   "cell_type": "code",
   "execution_count": 1,
   "metadata": {},
   "outputs": [],
   "source": [
    "import numpy as np"
   ]
  },
  {
   "cell_type": "markdown",
   "metadata": {},
   "source": [
    "### Funções auxiliares"
   ]
  },
  {
   "cell_type": "code",
   "execution_count": 2,
   "metadata": {},
   "outputs": [],
   "source": [
    "def extrai_coordenadas_do_individuo(ind):\n",
    "    lista_coordenadas = []\n",
    "    for i in range(len(ind)):\n",
    "        lista_coordenadas.append((i,ind[i]))\n",
    "    return lista_coordenadas\n",
    "\n",
    "\n",
    "def atualiza_coordenada(vlr_coord, operacao):\n",
    "    \n",
    "    novo_vlr_coord = -99\n",
    "    \n",
    "    if (operacao == \"+\") | (operacao == \"adicao\"):\n",
    "        novo_vlr_coord = vlr_coord + 1\n",
    "    elif (operacao == \"-\") | (operacao == \"subtracao\"):\n",
    "        novo_vlr_coord = vlr_coord - 1\n",
    "    else:\n",
    "        print(\"Operacao invalida.\")\n",
    "        novo_vlr_coord = -97\n",
    "    \n",
    "    return novo_vlr_coord\n",
    "\n",
    "\n",
    "def gera_matriz_coordenada(x,y,valor_posicao_rainha=0, tamanho_tabuleiro=8):\n",
    "    \n",
    "    limite_inferior = 0\n",
    "    limite_superior = tamanho_tabuleiro - 1\n",
    "    \n",
    "    m = np.zeros((tamanho_tabuleiro, tamanho_tabuleiro), dtype = int)\n",
    "\n",
    "    lista_operacoes = [\"+\",\"-\"]\n",
    "\n",
    "    for oper_i in lista_operacoes:\n",
    "        for oper_j in lista_operacoes:\n",
    "            \n",
    "            i = atualiza_coordenada(x,oper_i)\n",
    "            j = atualiza_coordenada(y,oper_j)\n",
    "            \n",
    "            while (i >= limite_inferior) & (i <= limite_superior) & (j >= limite_inferior) & (j <= limite_superior):\n",
    "                m[i,j] = 1\n",
    "                i = atualiza_coordenada(i,oper_i)\n",
    "                j = atualiza_coordenada(j,oper_j)\n",
    "\n",
    "    m[x,:] = 1\n",
    "    m[:,y] = 1\n",
    "    m[x,y] = valor_posicao_rainha\n",
    "    \n",
    "    return m\n",
    "\n",
    "def gera_matriz_resultante(coords_ind):\n",
    "    \n",
    "    tamanho_do_tabuleiro = len(coords_ind)\n",
    "    \n",
    "    mr = np.zeros((tamanho_do_tabuleiro, tamanho_do_tabuleiro), dtype = int)\n",
    "\n",
    "    for x,y in coords_ind:\n",
    "        mr = mr + gera_matriz_coordenada(x,y,valor_posicao_rainha=0)\n",
    "    \n",
    "    return mr\n",
    "\n",
    "def qtde_ataques_entre_rainhas(mr, coords_ind):\n",
    "    qtde_ataques = 0\n",
    "    for x,y in coords_ind:\n",
    "        qtde_ataques = qtde_ataques + mr[x,y]\n",
    "    return qtde_ataques\n",
    "\n",
    "\n",
    "def fitness(qtde_ataques_entre_rainhas):\n",
    "    b=0.2\n",
    "    if qtde_ataques_entre_rainhas < 0:\n",
    "        print(\"[fitness] Erro! Quantidade de ataques negativo!\")\n",
    "        f = -9999\n",
    "    else:\n",
    "        f = 1 / (1 + b*qtde_ataques_entre_rainhas)\n",
    "        \n",
    "    return f\n",
    "\n",
    "def evaluate_fn(ind):\n",
    "    coords_ind = extrai_coordenadas_do_individuo(ind)\n",
    "    mr_teste = gera_matriz_resultante(coords_ind)\n",
    "    q = qtde_ataques_entre_rainhas(mr_teste, coords_ind)\n",
    "    ind_fitness = fitness(q)\n",
    "    return ind_fitness, "
   ]
  },
  {
   "cell_type": "code",
   "execution_count": 5,
   "metadata": {},
   "outputs": [
    {
     "name": "stdout",
     "output_type": "stream",
     "text": [
      "[7 2 2 0 6 6 6 7] [(0, 7), (1, 2), (2, 2), (3, 0), (4, 6), (5, 6), (6, 6), (7, 7)] (0.2,)\n",
      "[2 7 5 6 7 3 6 3] [(0, 2), (1, 7), (2, 5), (3, 6), (4, 7), (5, 3), (6, 6), (7, 3)] (0.2631578947368421,)\n",
      "[1 2 3 5 5 0 0 5] [(0, 1), (1, 2), (2, 3), (3, 5), (4, 5), (5, 0), (6, 0), (7, 5)] (0.18518518518518517,)\n",
      "[7 5 6 0 1 4 7 4] [(0, 7), (1, 5), (2, 6), (3, 0), (4, 1), (5, 4), (6, 7), (7, 4)] (0.2941176470588235,)\n",
      "[0 5 6 5 4 3 2 3] [(0, 0), (1, 5), (2, 6), (3, 5), (4, 4), (5, 3), (6, 2), (7, 3)] (0.14285714285714285,)\n",
      "[3 2 1 6 1 7 7 3] [(0, 3), (1, 2), (2, 1), (3, 6), (4, 1), (5, 7), (6, 7), (7, 3)] (0.23809523809523808,)\n",
      "[1 7 5 2 2 7 7 6] [(0, 1), (1, 7), (2, 5), (3, 2), (4, 2), (5, 7), (6, 7), (7, 6)] (0.2631578947368421,)\n",
      "[7 5 7 6 3 7 0 6] [(0, 7), (1, 5), (2, 7), (3, 6), (4, 3), (5, 7), (6, 0), (7, 6)] (0.23809523809523808,)\n",
      "[0 1 0 7 1 4 1 1] [(0, 0), (1, 1), (2, 0), (3, 7), (4, 1), (5, 4), (6, 1), (7, 1)] (0.2173913043478261,)\n",
      "[5 4 7 1 7 6 6 1] [(0, 5), (1, 4), (2, 7), (3, 1), (4, 7), (5, 6), (6, 6), (7, 1)] (0.2631578947368421,)\n"
     ]
    }
   ],
   "source": [
    "tamanho_do_tabuleiro = 8\n",
    "for i in range(10):\n",
    "    w = np.random.randint(tamanho_do_tabuleiro, size=tamanho_do_tabuleiro)\n",
    "    print(w, extrai_coordenadas_do_individuo(w), evaluate_fn(w))"
   ]
  },
  {
   "cell_type": "code",
   "execution_count": null,
   "metadata": {},
   "outputs": [],
   "source": []
  }
 ],
 "metadata": {
  "kernelspec": {
   "display_name": "Python 3",
   "language": "python",
   "name": "python3"
  },
  "language_info": {
   "codemirror_mode": {
    "name": "ipython",
    "version": 3
   },
   "file_extension": ".py",
   "mimetype": "text/x-python",
   "name": "python",
   "nbconvert_exporter": "python",
   "pygments_lexer": "ipython3",
   "version": "3.6.9"
  }
 },
 "nbformat": 4,
 "nbformat_minor": 2
}
