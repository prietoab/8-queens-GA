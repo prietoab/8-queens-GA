{
 "cells": [
  {
   "cell_type": "code",
   "execution_count": 3,
   "metadata": {},
   "outputs": [],
   "source": [
    "import numpy as np"
   ]
  },
  {
   "cell_type": "code",
   "execution_count": 2,
   "metadata": {},
   "outputs": [],
   "source": [
    "tamanho_populacao = 100\n",
    "tamanho_tabuleiro = 8"
   ]
  },
  {
   "cell_type": "code",
   "execution_count": 5,
   "metadata": {},
   "outputs": [],
   "source": [
    "np.random.seed(seed=43)"
   ]
  },
  {
   "cell_type": "code",
   "execution_count": 6,
   "metadata": {},
   "outputs": [
    {
     "data": {
      "text/plain": [
       "[array([4, 0, 7, 1, 5, 2, 0, 3]),\n",
       " array([1, 3, 3, 2, 6, 6, 7, 0]),\n",
       " array([3, 7, 2, 3, 3, 1, 1, 7]),\n",
       " array([2, 3, 2, 3, 5, 4, 4, 0]),\n",
       " array([5, 4, 0, 4, 7, 0, 2, 4]),\n",
       " array([0, 1, 2, 0, 4, 4, 0, 4]),\n",
       " array([1, 7, 5, 4, 7, 0, 5, 0]),\n",
       " array([3, 2, 1, 3, 1, 5, 0, 6]),\n",
       " array([2, 2, 5, 5, 5, 0, 2, 3]),\n",
       " array([2, 7, 7, 5, 3, 6, 3, 2]),\n",
       " array([6, 2, 4, 2, 7, 3, 3, 6]),\n",
       " array([0, 3, 6, 5, 4, 7, 4, 5]),\n",
       " array([6, 3, 5, 3, 0, 3, 6, 5]),\n",
       " array([3, 2, 1, 6, 0, 0, 4, 6]),\n",
       " array([7, 5, 7, 4, 3, 7, 1, 3]),\n",
       " array([1, 5, 5, 0, 0, 3, 6, 1]),\n",
       " array([4, 6, 6, 4, 7, 3, 7, 1]),\n",
       " array([4, 5, 0, 4, 4, 7, 4, 3]),\n",
       " array([2, 1, 6, 7, 0, 3, 0, 1]),\n",
       " array([0, 1, 3, 4, 7, 5, 4, 5]),\n",
       " array([2, 0, 6, 0, 3, 4, 2, 2]),\n",
       " array([4, 4, 3, 1, 4, 2, 2, 4]),\n",
       " array([7, 2, 1, 3, 6, 4, 5, 5]),\n",
       " array([0, 3, 4, 2, 4, 7, 7, 1]),\n",
       " array([3, 2, 7, 7, 1, 3, 1, 6]),\n",
       " array([2, 1, 3, 6, 5, 2, 1, 4]),\n",
       " array([5, 0, 4, 2, 5, 6, 0, 4]),\n",
       " array([5, 5, 0, 0, 4, 6, 7, 6]),\n",
       " array([7, 0, 5, 2, 0, 7, 1, 1]),\n",
       " array([3, 1, 4, 1, 1, 6, 7, 3]),\n",
       " array([3, 0, 3, 1, 1, 7, 0, 4]),\n",
       " array([3, 2, 7, 7, 0, 3, 3, 2]),\n",
       " array([0, 4, 2, 6, 7, 4, 1, 4]),\n",
       " array([5, 6, 0, 4, 4, 6, 6, 0]),\n",
       " array([4, 3, 4, 6, 3, 3, 6, 7]),\n",
       " array([0, 1, 6, 4, 5, 1, 7, 2]),\n",
       " array([0, 0, 2, 4, 2, 7, 6, 7]),\n",
       " array([4, 5, 2, 4, 0, 6, 3, 5]),\n",
       " array([1, 4, 0, 0, 2, 0, 1, 0]),\n",
       " array([1, 6, 0, 6, 2, 1, 5, 1]),\n",
       " array([7, 1, 1, 0, 5, 6, 5, 1]),\n",
       " array([5, 0, 3, 2, 5, 0, 5, 5]),\n",
       " array([5, 5, 0, 1, 3, 5, 2, 4]),\n",
       " array([3, 2, 5, 2, 7, 0, 3, 1]),\n",
       " array([2, 7, 7, 3, 6, 1, 0, 1]),\n",
       " array([0, 5, 1, 4, 1, 1, 3, 3]),\n",
       " array([0, 2, 0, 1, 1, 4, 2, 3]),\n",
       " array([0, 4, 3, 0, 5, 7, 2, 2]),\n",
       " array([2, 7, 7, 1, 3, 5, 0, 4]),\n",
       " array([2, 7, 6, 2, 3, 5, 7, 0]),\n",
       " array([1, 2, 0, 1, 2, 5, 2, 0]),\n",
       " array([0, 4, 1, 7, 4, 2, 5, 5]),\n",
       " array([2, 2, 0, 0, 7, 6, 0, 4]),\n",
       " array([2, 1, 3, 0, 7, 6, 6, 5]),\n",
       " array([7, 5, 6, 5, 1, 5, 2, 7]),\n",
       " array([4, 6, 1, 0, 6, 1, 0, 6]),\n",
       " array([0, 6, 5, 0, 4, 1, 6, 0]),\n",
       " array([2, 5, 1, 6, 7, 1, 5, 6]),\n",
       " array([6, 6, 4, 0, 6, 6, 5, 6]),\n",
       " array([4, 7, 6, 0, 1, 1, 1, 7]),\n",
       " array([2, 6, 3, 3, 3, 4, 5, 1]),\n",
       " array([4, 1, 2, 5, 1, 4, 1, 7]),\n",
       " array([1, 5, 1, 2, 4, 3, 5, 6]),\n",
       " array([2, 0, 7, 3, 4, 7, 3, 2]),\n",
       " array([6, 6, 1, 2, 4, 3, 3, 1]),\n",
       " array([2, 0, 3, 1, 4, 3, 0, 5]),\n",
       " array([0, 3, 6, 2, 0, 1, 1, 4]),\n",
       " array([5, 3, 5, 5, 3, 6, 1, 3]),\n",
       " array([3, 3, 7, 4, 2, 5, 6, 6]),\n",
       " array([1, 1, 2, 0, 1, 4, 0, 1]),\n",
       " array([3, 5, 3, 7, 1, 6, 5, 2]),\n",
       " array([7, 3, 3, 5, 0, 7, 3, 7]),\n",
       " array([2, 4, 1, 2, 2, 1, 1, 4]),\n",
       " array([0, 5, 7, 3, 4, 3, 0, 5]),\n",
       " array([5, 3, 2, 5, 4, 6, 4, 6]),\n",
       " array([3, 6, 0, 2, 4, 7, 2, 4]),\n",
       " array([4, 7, 7, 1, 2, 0, 5, 3]),\n",
       " array([5, 7, 7, 1, 6, 0, 0, 6]),\n",
       " array([3, 6, 2, 6, 0, 7, 1, 7]),\n",
       " array([3, 3, 7, 5, 0, 5, 7, 6]),\n",
       " array([5, 4, 3, 5, 7, 1, 0, 0]),\n",
       " array([6, 3, 2, 0, 6, 5, 6, 6]),\n",
       " array([2, 6, 2, 6, 2, 4, 2, 7]),\n",
       " array([4, 5, 5, 5, 0, 3, 3, 2]),\n",
       " array([1, 4, 0, 3, 7, 4, 7, 6]),\n",
       " array([5, 0, 1, 6, 5, 6, 1, 4]),\n",
       " array([7, 3, 3, 6, 2, 1, 1, 1]),\n",
       " array([3, 4, 7, 7, 6, 5, 1, 1]),\n",
       " array([3, 5, 1, 1, 0, 3, 2, 3]),\n",
       " array([2, 6, 2, 2, 3, 5, 1, 4]),\n",
       " array([0, 5, 0, 2, 6, 2, 2, 4]),\n",
       " array([2, 1, 2, 1, 3, 1, 1, 6]),\n",
       " array([5, 5, 1, 6, 0, 2, 1, 1]),\n",
       " array([6, 2, 3, 6, 1, 0, 4, 3]),\n",
       " array([4, 5, 2, 3, 7, 5, 2, 2]),\n",
       " array([3, 1, 4, 0, 4, 0, 3, 4]),\n",
       " array([6, 2, 2, 0, 3, 5, 1, 4]),\n",
       " array([0, 5, 3, 7, 1, 4, 0, 2]),\n",
       " array([7, 6, 6, 5, 5, 4, 4, 2]),\n",
       " array([1, 0, 5, 1, 1, 6, 0, 1])]"
      ]
     },
     "execution_count": 6,
     "metadata": {},
     "output_type": "execute_result"
    }
   ],
   "source": [
    "pop = []\n",
    "\n",
    "for i in range(tamanho_populacao):\n",
    "    ind = np.random.randint(tamanho_tabuleiro, size=tamanho_tabuleiro)\n",
    "    pop.append(ind)\n",
    "    \n",
    "pop"
   ]
  },
  {
   "cell_type": "code",
   "execution_count": null,
   "metadata": {},
   "outputs": [],
   "source": []
  }
 ],
 "metadata": {
  "kernelspec": {
   "display_name": "Python 3",
   "language": "python",
   "name": "python3"
  },
  "language_info": {
   "codemirror_mode": {
    "name": "ipython",
    "version": 3
   },
   "file_extension": ".py",
   "mimetype": "text/x-python",
   "name": "python",
   "nbconvert_exporter": "python",
   "pygments_lexer": "ipython3",
   "version": "3.6.9"
  }
 },
 "nbformat": 4,
 "nbformat_minor": 2
}
